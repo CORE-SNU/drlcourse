{
 "cells": [
  {
   "cell_type": "markdown",
   "metadata": {
    "id": "0IJOCgFqnMxM"
   },
   "source": [
    "If you run in jupyter, turn \n",
    "\n",
    "```\n",
    "colab = False\n",
    "```"
   ]
  },
  {
   "cell_type": "code",
   "execution_count": 33,
   "metadata": {
    "colab": {
     "base_uri": "https://localhost:8080/"
    },
    "executionInfo": {
     "elapsed": 3228,
     "status": "ok",
     "timestamp": 1627627539975,
     "user": {
      "displayName": "Jaeuk Shin",
      "photoUrl": "https://lh3.googleusercontent.com/a-/AOh14Gh2HvwZBvQE7zU0ynPZa6sKJxKuEKKAqVSaYkNwrg=s64",
      "userId": "00192274820623998851"
     },
     "user_tz": -540
    },
    "id": "x1AWniUnnL4L",
    "outputId": "bf1d2c41-1500-4e89-a62b-1fd65791f72f"
   },
   "outputs": [
    {
     "name": "stdout",
     "output_type": "stream",
     "text": [
      "Requirement already satisfied: control in /usr/local/lib/python3.7/dist-packages (0.9.0)\n",
      "Requirement already satisfied: matplotlib in /usr/local/lib/python3.7/dist-packages (from control) (3.2.2)\n",
      "Requirement already satisfied: scipy in /usr/local/lib/python3.7/dist-packages (from control) (1.4.1)\n",
      "Requirement already satisfied: numpy in /usr/local/lib/python3.7/dist-packages (from control) (1.19.5)\n",
      "Requirement already satisfied: kiwisolver>=1.0.1 in /usr/local/lib/python3.7/dist-packages (from matplotlib->control) (1.3.1)\n",
      "Requirement already satisfied: python-dateutil>=2.1 in /usr/local/lib/python3.7/dist-packages (from matplotlib->control) (2.8.1)\n",
      "Requirement already satisfied: pyparsing!=2.0.4,!=2.1.2,!=2.1.6,>=2.0.1 in /usr/local/lib/python3.7/dist-packages (from matplotlib->control) (2.4.7)\n",
      "Requirement already satisfied: cycler>=0.10 in /usr/local/lib/python3.7/dist-packages (from matplotlib->control) (0.10.0)\n",
      "Requirement already satisfied: six in /usr/local/lib/python3.7/dist-packages (from cycler>=0.10->matplotlib->control) (1.15.0)\n",
      "Drive already mounted at /content/drive; to attempt to forcibly remount, call drive.mount(\"/content/drive\", force_remount=True).\n",
      "/content/drive/MyDrive/rl-master/rl-master/day5/ts\n",
      "lq.png\t__pycache__  result.png  traj.png  ts.ipynb  utils.py\n"
     ]
    }
   ],
   "source": [
    "colab = True\n",
    "if colab:\n",
    "    !pip install control\n",
    "    from google.colab import drive\n",
    "    drive.mount('/content/drive')\n",
    "\n",
    "    %cd /content/drive/MyDrive/rl-master/rl-master/day5/ts\n",
    "    !ls"
   ]
  },
  {
   "cell_type": "markdown",
   "metadata": {
    "id": "obJAdoybnKkG"
   },
   "source": [
    "# Thompson Sampling Practice"
   ]
  },
  {
   "cell_type": "code",
   "execution_count": 3,
   "metadata": {
    "executionInfo": {
     "elapsed": 300,
     "status": "ok",
     "timestamp": 1627623141456,
     "user": {
      "displayName": "Jaeuk Shin",
      "photoUrl": "https://lh3.googleusercontent.com/a-/AOh14Gh2HvwZBvQE7zU0ynPZa6sKJxKuEKKAqVSaYkNwrg=s64",
      "userId": "00192274820623998851"
     },
     "user_tz": -540
    },
    "id": "qOXc6wFEnKkI"
   },
   "outputs": [],
   "source": [
    "import numpy as np\n",
    "import random\n",
    "from control import dare, ctrb\n",
    "from tqdm import tqdm\n",
    "import matplotlib.pyplot as plt\n",
    "from utils import value_iteration"
   ]
  },
  {
   "cell_type": "markdown",
   "metadata": {
    "id": "LPteh9GnnKkJ"
   },
   "source": [
    "# 0. Multi-armed Bandit"
   ]
  },
  {
   "cell_type": "markdown",
   "metadata": {
    "id": "fZEdlLRHnKkK"
   },
   "source": [
    "## 0.0. Define Bandit Agent"
   ]
  },
  {
   "cell_type": "markdown",
   "metadata": {
    "id": "LeubUB0e7bCY"
   },
   "source": [
    "For each edge $e$, we have\n",
    "\\begin{gather*}\n",
    "\\log y_e \\sim \\mathcal{N}\\left(\\log\\theta_e - \\frac{\\breve \\sigma_e^2}{2}, \\breve \\sigma_e \\right).\n",
    "\\end{gather*}\n",
    "where $\\theta_e > 0$ is an uncertain parameter. Hence, we take the prior/poseterior distributions over $\\theta_e$ to be lognormal distribution with paramters $\\mu_e$ and $\\sigma_e$:\n",
    "\\begin{equation*}\n",
    "\\log \\theta_e \\sim \\mathcal{N}(\\mu_e, \\sigma_e).\n",
    "\\end{equation*}\n",
    "\n",
    "**[Question]** Where does $\\log\\theta_e - \\frac{\\breve \\sigma_e^2}{2}$ comes from?\n",
    "\n",
    "**[Answer]** By setting the mean as above, $y_e$ satisfies $\\mathbb{E}[y_e | \\theta_e ] = \\theta_e$, and accordingly, $\\mathbb{E}[y_e] = \\mathbb{E}[\\theta_e] = \\exp\\left( \\mu_e + \\frac{\\sigma_e^2}{2}  \\right)$!\n",
    "\n",
    "Therefore, given $\\sigma_e$, it is natural to take the prior mean $\\mu_e$ to be\n",
    "\\begin{equation*}\n",
    "\\mu_e = \\log d_e - \\frac{\\sigma_e^2}{2},\n",
    "\\end{equation*}\n",
    "where $d_e$ : rough travel time inferred from the physical distance.\n",
    "\n",
    "For the details of the problem, see https://arxiv.org/abs/1707.02038."
   ]
  },
  {
   "cell_type": "code",
   "execution_count": 20,
   "metadata": {
    "executionInfo": {
     "elapsed": 350,
     "status": "ok",
     "timestamp": 1627628247422,
     "user": {
      "displayName": "Jaeuk Shin",
      "photoUrl": "https://lh3.googleusercontent.com/a-/AOh14Gh2HvwZBvQE7zU0ynPZa6sKJxKuEKKAqVSaYkNwrg=s64",
      "userId": "00192274820623998851"
     },
     "user_tz": -540
    },
    "id": "nZe2vaGJnKkK"
   },
   "outputs": [],
   "source": [
    "# Bandit agent\n",
    "class TSbandit():\n",
    "    def __init__(self, path_set, dist_edge, s):\n",
    "        self.path_set = path_set\n",
    "        self.num_paths = len(path_set)\n",
    "        self.num_edges = len(dist_edge)\n",
    "        self.sigma = np.ones(self.num_edges)\n",
    "        # reasonable choice of prior mean : travel distance\n",
    "        self.mu = np.log(dist_edge) - .5 * self.sigma ** 2\n",
    "        self.s = s      # standard deviation of y_t; assumed to be known\n",
    "\n",
    "    # Bayesian update rule\n",
    "    def update(self, y_t, e_idx):\n",
    "        mu_e, sigma_e = self.mu[e_idx], self.sigma[e_idx]\n",
    "        s = self.s\n",
    "        # new variance : harmonic mean of two variances\n",
    "        harmonic = 1. / ((1. / sigma_e ** 2) + (1. / s ** 2)) \n",
    "        self.mu[e_idx] = mu_e / (sigma_e ** 2) + (np.log(y_t) + (0.5 * s ** 2)) / (s ** 2)\n",
    "        self.mu[e_idx] *= harmonic\n",
    "        self.sigma[e_idx] = np.sqrt(harmonic)\n",
    "        \n",
    "        \n",
    "    def sample(self):\n",
    "        thetas = []     # set of all \\theta_e's sampled from the posterior\n",
    "        for mu_e, sigma_e in zip(self.mu, self.sigma):\n",
    "            # key ingredient of Thompson sampling! sample \\theta_e's\n",
    "            th = np.random.lognormal(mu_e, sigma_e)\n",
    "            thetas.append(th)\n",
    "        # Get greedy action of sampled models, i.e., \\theta_e's.\n",
    "        # Note that \\theta_e = E[y_t | \\theta_e].\n",
    "        # Thus, the shortest path P would be the one with the smallest \\sum_P \\theta_e.\n",
    "        rewards = []    # -(mean travel time) of each path according to our model\n",
    "        for path in self.path_set:\n",
    "            mean_travel_t = 0.\n",
    "            for e_idx in path:\n",
    "                mean_travel_t += thetas[e_idx]\n",
    "            rewards.append(-mean_travel_t)\n",
    "\n",
    "        return np.argmax(rewards)\n",
    "\n",
    "    def greedy(self, epsilon=0):\n",
    "        thetas = []\n",
    "        for mu_e, sigma_e in zip(self.mu, self.sigma):\n",
    "            # Point estimates of \\theta_e's of greedy agent.\n",
    "            th = np.exp(mu_e + .5 * sigma_e ** 2)\n",
    "            thetas.append(th)\n",
    "    \n",
    "        rewards = []\n",
    "        for path in self.path_set:\n",
    "            mean_travel_t = 0.\n",
    "            for e_idx in path:\n",
    "                mean_travel_t += thetas[e_idx]\n",
    "            rewards.append(-mean_travel_t)\n",
    "                         \n",
    "        # epsilon-greedy\n",
    "        r = np.random.rand()\n",
    "        if r < epsilon:\n",
    "            return np.argmax(rewards)\n",
    "        else:\n",
    "            return np.random.randint(self.num_paths)"
   ]
  },
  {
   "cell_type": "code",
   "execution_count": 31,
   "metadata": {
    "colab": {
     "base_uri": "https://localhost:8080/"
    },
    "executionInfo": {
     "elapsed": 33576,
     "status": "ok",
     "timestamp": 1627628742345,
     "user": {
      "displayName": "Jaeuk Shin",
      "photoUrl": "https://lh3.googleusercontent.com/a-/AOh14Gh2HvwZBvQE7zU0ynPZa6sKJxKuEKKAqVSaYkNwrg=s64",
      "userId": "00192274820623998851"
     },
     "user_tz": -540
    },
    "id": "TWqjjlxnnKkK",
    "outputId": "240b6ace-953b-4a0c-9988-44e03d1247a2"
   },
   "outputs": [
    {
     "name": "stderr",
     "output_type": "stream",
     "text": [
      "100%|██████████| 1000/1000 [02:24<00:00,  6.91it/s]\n"
     ]
    }
   ],
   "source": [
    "# Select one of these path to go to destination\n",
    "path_set = [[0, 5, 10, 14],\n",
    "            [1, 6, 10, 14],\n",
    "            [2, 7, 11, 14],\n",
    "            [2, 7, 12, 15],\n",
    "            [3, 8, 13, 15],\n",
    "            [4, 9, 13, 15],\n",
    "            ]\n",
    "\n",
    "# Number of edges that construct path jointly\n",
    "num_edge = 16\n",
    "\n",
    "\n",
    "num_periods = 1000\n",
    "num_epochs = 1000\n",
    "\n",
    "per_period_regret_greedy = np.zeros((num_epochs, num_periods))\n",
    "per_period_regret_ts = np.zeros((num_epochs, num_periods))\n",
    "\n",
    "for epoch in tqdm(range(num_epochs)):\n",
    "    # Generate a problem instance by setting \\theta_e's & \\breve \\sigma.\n",
    "    # Note that these are true \\theta_e's!\n",
    "    dist_edge = np.random.uniform(2, 5, num_edge)\n",
    "    sigma_wave = 1.\n",
    "    theta_edge = dist_edge + np.random.uniform(-0.5, 0.5, num_edge)\n",
    "    \n",
    "    true_rewards = []\n",
    "    for i, path in enumerate(path_set):\n",
    "            mean_reward_t = 0.\n",
    "            for e_idx in path:\n",
    "                mean_reward_t += theta_edge[e_idx]\n",
    "            true_rewards.append(-mean_reward_t)\n",
    "    # find the shortest path\n",
    "    # For larger graphs, more efficient shortest path algorithm may be used.\n",
    "    shortest_path = np.argmax(true_rewards)\n",
    "    optimal_reward = np.max(true_rewards)\n",
    "    \n",
    "    # Build agent\n",
    "    agent_greedy = TSbandit(path_set, dist_edge, s=sigma_wave)\n",
    "    agent_TS = TSbandit(path_set, dist_edge, s=sigma_wave)\n",
    "    \n",
    "    # Rollout and calculate regret\n",
    "    r_greedy, r_TS = [], []\n",
    "    \n",
    "    for t in range(num_periods):\n",
    "        # epsilon-greedy\n",
    "        a_greedy = agent_greedy.greedy(epsilon=0.5)\n",
    "        # sampling\n",
    "        a_ts = agent_TS.sample()\n",
    "        \n",
    "        path_greedy = path_set[a_greedy]\n",
    "        path_ts = path_set[a_ts]\n",
    "        \n",
    "        # Rollout and calculate regret\n",
    "        \n",
    "        # Realization of travel time observations of each edge.\n",
    "        # Since edges are pairwise independent, we may sample them simultaneously.\n",
    "        y = np.random.lognormal(np.log(theta_edge)-.5*(sigma_wave ** 2), sigma_wave)\n",
    "        \n",
    "        # Bayesian updates across the paths\n",
    "        reward_greedy = 0.\n",
    "        for e_idx in path_greedy:\n",
    "            y_t = y[e_idx]\n",
    "            agent_greedy.update(y_t, e_idx)\n",
    "            reward_greedy -= theta_edge[e_idx]\n",
    "        \n",
    "        reward_ts = 0.\n",
    "        for e_idx in path_ts:\n",
    "            y_t = y[e_idx]\n",
    "            agent_TS.update(y_t, e_idx)\n",
    "            reward_ts -= theta_edge[e_idx]\n",
    "        \n",
    "        r_greedy.append(reward_greedy)\n",
    "        r_TS.append(reward_ts)\n",
    "        \n",
    "    # Computation of per-period regrets for all t(broadcasting used).\n",
    "    per_period_regret_greedy[epoch] = optimal_reward - np.array(r_greedy)\n",
    "    per_period_regret_ts[epoch] = optimal_reward - np.array(r_TS)"
   ]
  },
  {
   "cell_type": "code",
   "execution_count": 33,
   "metadata": {
    "colab": {
     "base_uri": "https://localhost:8080/",
     "height": 297
    },
    "executionInfo": {
     "elapsed": 871,
     "status": "ok",
     "timestamp": 1627628747725,
     "user": {
      "displayName": "Jaeuk Shin",
      "photoUrl": "https://lh3.googleusercontent.com/a-/AOh14Gh2HvwZBvQE7zU0ynPZa6sKJxKuEKKAqVSaYkNwrg=s64",
      "userId": "00192274820623998851"
     },
     "user_tz": -540
    },
    "id": "ysdyAPfpnKkM",
    "outputId": "b2f46310-94c4-4a25-da19-3774a8067bd7"
   },
   "outputs": [
    {
     "data": {
      "image/png": "[encoded data removed]",
      "text/plain": [
       "<Figure size 432x288 with 1 Axes>"
      ]
     },
     "metadata": {
      "needs_background": "light"
     },
     "output_type": "display_data"
    }
   ],
   "source": [
    "mean_greedy = np.mean(per_period_regret_greedy, axis=0)\n",
    "std_greedy = np.std(per_period_regret_greedy, axis=0)\n",
    "\n",
    "mean_ts = np.mean(per_period_regret_ts, axis=0)\n",
    "std_ts = np.std(per_period_regret_ts, axis=0)\n",
    "\n",
    "x = np.arange(num_periods)\n",
    "plt.plot(x, mean_greedy, label=r'$\\varepsilon$-greedy($\\varepsilon=0.5$)', color='tab:red')\n",
    "plt.fill_between(x, mean_greedy - .25 * std_greedy, mean_greedy + .25 * std_greedy, alpha=0.2, color='tab:red')\n",
    "plt.plot(x, mean_ts, label='Thompson sampling', color='tab:blue')\n",
    "plt.fill_between(x, mean_ts - .25 * std_ts, mean_ts + .25 * std_ts, alpha=0.2, color='tab:blue')\n",
    "\n",
    "plt.xlim(x[0], x[-1] + 1)\n",
    "plt.ylim(0.)\n",
    "plt.legend(fontsize=16)\n",
    "plt.xlabel(r'period ($t$)', fontsize=16)\n",
    "plt.ylabel('per period regret', fontsize=16)\n",
    "\n",
    "plt.grid()\n",
    "plt.tight_layout()\n",
    "plt.savefig('result.png')"
   ]
  },
  {
   "cell_type": "markdown",
   "metadata": {
    "id": "B8DIWoe2nKkN"
   },
   "source": [
    "# 1. Finite Markov Decision Process"
   ]
  },
  {
   "cell_type": "code",
   "execution_count": 39,
   "metadata": {
    "executionInfo": {
     "elapsed": 318,
     "status": "ok",
     "timestamp": 1627629486692,
     "user": {
      "displayName": "Jaeuk Shin",
      "photoUrl": "https://lh3.googleusercontent.com/a-/AOh14Gh2HvwZBvQE7zU0ynPZa6sKJxKuEKKAqVSaYkNwrg=s64",
      "userId": "00192274820623998851"
     },
     "user_tz": -540
    },
    "id": "sadlTUm0nKkN"
   },
   "outputs": [],
   "source": [
    "class RiverSwimEnv:\n",
    "    def __init__(self, num_states=6, success_prob=0.8):\n",
    "        self.num_states = num_states\n",
    "        self.num_actions = 2\n",
    "        self.success_prob = success_prob\n",
    "        self.state = None\n",
    "        \n",
    "        P = np.zeros((2 * num_states, num_states))\n",
    "        R = -np.ones((num_states, 2))\n",
    "        \n",
    "        for i in range(num_states):\n",
    "            P[i, max(0, i - 1)] = 1.\n",
    "            if i < num_states - 1:\n",
    "                P[num_states + i, i + 1] = success_prob\n",
    "                P[num_states + i, i] = 1. - success_prob\n",
    "            else:\n",
    "                P[num_states + i, i] = 1.\n",
    "        R[0, 0] = -0.8\n",
    "        R[num_states - 1, 1] = 0.\n",
    "        \n",
    "        self.R = R\n",
    "        self.P = P\n",
    "        \n",
    "    def reset(self):\n",
    "        self.state = 2\n",
    "        return self.state\n",
    "    \n",
    "    def step(self, action):\n",
    "        reward = self.R[self.state, action]\n",
    "        \n",
    "        if action == 0:\n",
    "            self.state = max(self.state - 1, 0)\n",
    "        elif action == 1:\n",
    "            if np.random.rand() < self.success_prob:\n",
    "                self.state = min(self.state + 1, self.num_states - 1)\n",
    "        \n",
    "        return self.state, reward\n",
    "    \n",
    "    @property\n",
    "    def R_true(self):\n",
    "        return self.R\n",
    "    \n",
    "    @property\n",
    "    def P_true(self):\n",
    "        return self.P"
   ]
  },
  {
   "cell_type": "code",
   "execution_count": 40,
   "metadata": {
    "executionInfo": {
     "elapsed": 294,
     "status": "ok",
     "timestamp": 1627629707571,
     "user": {
      "displayName": "Jaeuk Shin",
      "photoUrl": "https://lh3.googleusercontent.com/a-/AOh14Gh2HvwZBvQE7zU0ynPZa6sKJxKuEKKAqVSaYkNwrg=s64",
      "userId": "00192274820623998851"
     },
     "user_tz": -540
    },
    "id": "hkjvr65tnKkO"
   },
   "outputs": [],
   "source": [
    "class TSRLAgent:\n",
    "    def __init__(self, num_states, num_actions, alpha0, R):\n",
    "        self.num_states = num_states\n",
    "        self.num_actions = num_actions\n",
    "        self.alpha = alpha0    # parameters for Dirichlet priors & posteriors\n",
    "        self.R = R\n",
    "        self.policy = None\n",
    "        \n",
    "    def reset(self):\n",
    "        P = self.infer_model()\n",
    "        self.policy = value_iteration(P=P, R=self.R)[1]\n",
    "        \n",
    "    def act(self, state):\n",
    "        return self.policy[state]\n",
    "    \n",
    "    def update(self, state, action, next_state):\n",
    "        self.alpha[self.num_states * action + state, next_state] += 1\n",
    "        \n",
    "    def infer_model(self):\n",
    "        nrows = self.num_states * self.num_actions\n",
    "        P = np.zeros((nrows, self.num_states))\n",
    "        for i in range(nrows):\n",
    "            P[i] = np.random.dirichlet(self.alpha[i])\n",
    "        return P"
   ]
  },
  {
   "cell_type": "code",
   "execution_count": null,
   "metadata": {
    "id": "5hneISphnKkO"
   },
   "outputs": [],
   "source": [
    "def TSRL(env, max_t=10000, verbose=True):\n",
    "    num_states = env.num_states\n",
    "    num_actions = env.num_actions\n",
    "    alpha0 = .1 * np.ones((num_states * num_actions, num_states))\n",
    "    agent = TSRLAgent(num_states=num_states, num_actions=num_actions, alpha0=alpha0, R=env.R_true)\n",
    "    t = 0\n",
    "    t_init = 0\n",
    "    ep_len = 1\n",
    "    cumul_reward = 0.\n",
    "    reward_arr = []\n",
    "    visit_count = np.zeros((num_states, num_actions), dtype=int)\n",
    "    state = env.reset()\n",
    "    while True:\n",
    "        agent.reset()\n",
    "        visit_count_init = visit_count\n",
    "        while t <= t_init + ep_len:\n",
    "            action = agent.act(state)\n",
    "            next_state, reward = env.step(action)\n",
    "            visit_count[state, action] += 1\n",
    "            \n",
    "            cumul_reward += reward\n",
    "            reward_arr.append(cumul_reward)\n",
    "\n",
    "            # TODO : find update function and give appropriate arguments\n",
    "            agent.update(state, action, next_state)\n",
    "            state = next_state\n",
    "            \n",
    "            if visit_count[state, action] > 2 * visit_count_init[state, action]:\n",
    "                break\n",
    "            \n",
    "            t += 1\n",
    "            if verbose and t % 5000 == 0:\n",
    "                print('{} steps completed'.format(t))\n",
    "            \n",
    "            if t >= max_t:\n",
    "                break\n",
    "        if t >= max_t:\n",
    "            break\n",
    "        ep_len = t - t_init\n",
    "        t_init = t\n",
    "        \n",
    "    return agent, reward_arr"
   ]
  },
  {
   "cell_type": "code",
   "execution_count": null,
   "metadata": {
    "colab": {
     "base_uri": "https://localhost:8080/"
    },
    "executionInfo": {
     "elapsed": 6,
     "status": "ok",
     "timestamp": 1627115966270,
     "user": {
      "displayName": "­박민규 / 학생 / 전기·정보공학부",
      "photoUrl": "",
      "userId": "15454198223134513846"
     },
     "user_tz": -540
    },
    "id": "l5vlCquDnKkO",
    "outputId": "3662731a-5882-4abd-9b5e-7f09e55ab36e"
   },
   "outputs": [
    {
     "name": "stdout",
     "output_type": "stream",
     "text": [
      "transition probability : [[1.  0.  0.  0.  0.  0.  0.  0.  0.  0. ]\n",
      " [1.  0.  0.  0.  0.  0.  0.  0.  0.  0. ]\n",
      " [0.  1.  0.  0.  0.  0.  0.  0.  0.  0. ]\n",
      " [0.  0.  1.  0.  0.  0.  0.  0.  0.  0. ]\n",
      " [0.  0.  0.  1.  0.  0.  0.  0.  0.  0. ]\n",
      " [0.  0.  0.  0.  1.  0.  0.  0.  0.  0. ]\n",
      " [0.  0.  0.  0.  0.  1.  0.  0.  0.  0. ]\n",
      " [0.  0.  0.  0.  0.  0.  1.  0.  0.  0. ]\n",
      " [0.  0.  0.  0.  0.  0.  0.  1.  0.  0. ]\n",
      " [0.  0.  0.  0.  0.  0.  0.  0.  1.  0. ]\n",
      " [0.5 0.5 0.  0.  0.  0.  0.  0.  0.  0. ]\n",
      " [0.  0.5 0.5 0.  0.  0.  0.  0.  0.  0. ]\n",
      " [0.  0.  0.5 0.5 0.  0.  0.  0.  0.  0. ]\n",
      " [0.  0.  0.  0.5 0.5 0.  0.  0.  0.  0. ]\n",
      " [0.  0.  0.  0.  0.5 0.5 0.  0.  0.  0. ]\n",
      " [0.  0.  0.  0.  0.  0.5 0.5 0.  0.  0. ]\n",
      " [0.  0.  0.  0.  0.  0.  0.5 0.5 0.  0. ]\n",
      " [0.  0.  0.  0.  0.  0.  0.  0.5 0.5 0. ]\n",
      " [0.  0.  0.  0.  0.  0.  0.  0.  0.5 0.5]\n",
      " [0.  0.  0.  0.  0.  0.  0.  0.  0.  1. ]]\n",
      "reward : [[-0.8 -1. ]\n",
      " [-1.  -1. ]\n",
      " [-1.  -1. ]\n",
      " [-1.  -1. ]\n",
      " [-1.  -1. ]\n",
      " [-1.  -1. ]\n",
      " [-1.  -1. ]\n",
      " [-1.  -1. ]\n",
      " [-1.  -1. ]\n",
      " [-1.   0. ]]\n"
     ]
    }
   ],
   "source": [
    "env = RiverSwimEnv(num_states=10, success_prob=0.5)\n",
    "print('transition probability :', env.P_true)\n",
    "print('reward :', env.R_true)"
   ]
  },
  {
   "cell_type": "code",
   "execution_count": null,
   "metadata": {
    "colab": {
     "base_uri": "https://localhost:8080/"
    },
    "executionInfo": {
     "elapsed": 5671,
     "status": "ok",
     "timestamp": 1627115971937,
     "user": {
      "displayName": "­박민규 / 학생 / 전기·정보공학부",
      "photoUrl": "",
      "userId": "15454198223134513846"
     },
     "user_tz": -540
    },
    "id": "PDKLdc1wnKkO",
    "outputId": "7279a11e-214b-4718-ddfd-aa2a73213f8c"
   },
   "outputs": [
    {
     "name": "stdout",
     "output_type": "stream",
     "text": [
      "5000 steps completed\n",
      "10000 steps completed\n",
      "15000 steps completed\n",
      "20000 steps completed\n",
      "25000 steps completed\n",
      "30000 steps completed\n",
      "35000 steps completed\n",
      "40000 steps completed\n",
      "45000 steps completed\n",
      "50000 steps completed\n",
      "55000 steps completed\n",
      "60000 steps completed\n",
      "65000 steps completed\n",
      "70000 steps completed\n",
      "75000 steps completed\n",
      "80000 steps completed\n",
      "85000 steps completed\n",
      "90000 steps completed\n",
      "95000 steps completed\n",
      "100000 steps completed\n",
      "105000 steps completed\n",
      "110000 steps completed\n",
      "115000 steps completed\n",
      "120000 steps completed\n",
      "125000 steps completed\n",
      "130000 steps completed\n",
      "135000 steps completed\n",
      "140000 steps completed\n",
      "145000 steps completed\n",
      "150000 steps completed\n",
      "155000 steps completed\n",
      "160000 steps completed\n",
      "165000 steps completed\n",
      "170000 steps completed\n",
      "175000 steps completed\n",
      "180000 steps completed\n",
      "185000 steps completed\n",
      "190000 steps completed\n",
      "195000 steps completed\n",
      "200000 steps completed\n"
     ]
    }
   ],
   "source": [
    "T = 200000\n",
    "\n",
    "agent, reward_arr = TSRL(env=env, max_t=T)"
   ]
  },
  {
   "cell_type": "code",
   "execution_count": null,
   "metadata": {
    "colab": {
     "base_uri": "https://localhost:8080/"
    },
    "executionInfo": {
     "elapsed": 16,
     "status": "ok",
     "timestamp": 1627115971938,
     "user": {
      "displayName": "­박민규 / 학생 / 전기·정보공학부",
      "photoUrl": "",
      "userId": "15454198223134513846"
     },
     "user_tz": -540
    },
    "id": "HpG9EEhonKkP",
    "outputId": "f741645b-88b3-4e3c-b058-3ae611dbd169"
   },
   "outputs": [
    {
     "name": "stdout",
     "output_type": "stream",
     "text": [
      "optimal policy : [1 1 1 1 1 1 1 1 1 1]\n"
     ]
    }
   ],
   "source": [
    "gain, pi_opt = value_iteration(env.P_true, env.R_true)\n",
    "print('optimal policy :', pi_opt)"
   ]
  },
  {
   "cell_type": "code",
   "execution_count": null,
   "metadata": {
    "colab": {
     "base_uri": "https://localhost:8080/"
    },
    "executionInfo": {
     "elapsed": 155536,
     "status": "ok",
     "timestamp": 1627116212889,
     "user": {
      "displayName": "­박민규 / 학생 / 전기·정보공학부",
      "photoUrl": "",
      "userId": "15454198223134513846"
     },
     "user_tz": -540
    },
    "id": "V1TjczzKnKkP",
    "outputId": "19dcf811-d68a-4bc8-c2d3-5db9469581c9"
   },
   "outputs": [
    {
     "name": "stderr",
     "output_type": "stream",
     "text": [
      "100%|██████████| 50/50 [02:35<00:00,  3.10s/it]\n"
     ]
    }
   ],
   "source": [
    "num_trials = 50\n",
    "T = 50000\n",
    "\n",
    "regrets = np.zeros((num_trials, T))\n",
    "\n",
    "for i in tqdm(range(num_trials)):\n",
    "    reward_arr = TSRL(env=env, max_t=T, verbose=False)[1]\n",
    "    regrets[i] = gain * np.arange(1, T + 1) - np.array(reward_arr)"
   ]
  },
  {
   "cell_type": "code",
   "execution_count": null,
   "metadata": {
    "colab": {
     "base_uri": "https://localhost:8080/",
     "height": 314
    },
    "executionInfo": {
     "elapsed": 519,
     "status": "ok",
     "timestamp": 1627116213405,
     "user": {
      "displayName": "­박민규 / 학생 / 전기·정보공학부",
      "photoUrl": "",
      "userId": "15454198223134513846"
     },
     "user_tz": -540
    },
    "id": "AHBmq2-fnKkP",
    "outputId": "37babdef-6880-4aba-b1f4-f6452a4f7171"
   },
   "outputs": [
    {
     "data": {
      "image/png": "[encoded data removed]",
      "text/plain": [
       "<Figure size 432x288 with 1 Axes>"
      ]
     },
     "metadata": {
      "needs_background": "light",
      "tags": []
     },
     "output_type": "display_data"
    }
   ],
   "source": [
    "mean_regret = np.mean(regrets, axis=0)\n",
    "std_regret = np.std(regrets, axis=0)\n",
    "\n",
    "xscale = -4\n",
    "unit_sz = 10 ** xscale\n",
    "x = unit_sz * np.arange(T)\n",
    "\n",
    "plt.plot(x, mean_regret, color='tab:red')\n",
    "plt.fill_between(x, mean_regret - .25 * std_regret, mean_regret + .25 * std_regret, alpha=0.2, color='tab:red')\n",
    "plt.xlabel(r'$T (\\times 10^{})$'.format(-xscale), fontsize=20)\n",
    "plt.ylabel(r'Regret$(T)$', fontsize=16)\n",
    "plt.title('Bayes Regret : RiverSwim', fontsize=20)\n",
    "plt.xlim(0, unit_sz * T)\n",
    "plt.ylim(0)\n",
    "plt.grid()\n",
    "# plt.tight_layout()\n",
    "# plt.savefig('riverswim.png', dpi=1080)"
   ]
  },
  {
   "cell_type": "markdown",
   "metadata": {
    "id": "UGtUVnClnKkQ"
   },
   "source": [
    "# 2. Linear Quadratic Control"
   ]
  },
  {
   "cell_type": "code",
   "execution_count": null,
   "metadata": {
    "id": "Es_Kn2sfnKkQ"
   },
   "outputs": [],
   "source": [
    "def compute_gain(theta, Q, R):\n",
    "    # Compute the gain matrix G of LQ system (A, B, Q, R).\n",
    "    n = Q.shape[0]\n",
    "    m = R.shape[0]\n",
    "    assert theta.shape == (n + m, n)\n",
    "    A = theta[:n].T\n",
    "    B = theta[n:].T\n",
    "    G = -dare(A, B, Q, R)[2]\n",
    "    return np.asarray(G)"
   ]
  },
  {
   "cell_type": "code",
   "execution_count": null,
   "metadata": {
    "id": "oAC6MH0RnKkQ"
   },
   "outputs": [],
   "source": [
    "class LinearSystem:\n",
    "    def __init__(self, A, B, x0=None):\n",
    "        self.A = A\n",
    "        self.B = B\n",
    "        self.n = B.shape[0]\n",
    "        self.m = B.shape[1]\n",
    "        \n",
    "        if x0 is None:\n",
    "            self.x0 = np.zeros(self.n)\n",
    "        else:\n",
    "            self.x0 = x0\n",
    "        \n",
    "    def reset(self):\n",
    "        self.x = np.copy(self.x0)\n",
    "        return np.copy(self.x)\n",
    "    \n",
    "    def step(self, u):\n",
    "        # x_t+1 = A x_t + B u_t + w_t, w_t ~ N(0, I_n)\n",
    "        # TODO : complete above equation implementation\n",
    "        #self.x = self.A @ self.x + [TODO] + np.random.randn([TODO])\n",
    "        self.x = self.A @ self.x + self.B @ u + np.random.randn(self.n)\n",
    "        return np.copy(self.x)\n",
    "    \n",
    "    def is_stable(self, G: np.ndarray, delta) -> bool:\n",
    "        # Determine if an input controller is \\delta-stable.\n",
    "        # assert delta < 1.\n",
    "        assert G.shape == (self.m, self.n)\n",
    "        norm = np.linalg.norm(self.A + self.B @ G, ord=2)\n",
    "        return True if norm <= delta else False"
   ]
  },
  {
   "cell_type": "code",
   "execution_count": null,
   "metadata": {
    "id": "qIse7L1HnKkQ"
   },
   "outputs": [],
   "source": [
    "class Distribution:\n",
    "    def __init__(self, system: LinearSystem, Q, R, mean_prior=None, cov_prior=None):\n",
    "        self.system = system\n",
    "        self.Q = Q\n",
    "        self.R = R\n",
    "        self.n = Q.shape[0]\n",
    "        self.m = R.shape[0]\n",
    "        \n",
    "        d = self.n + self.m\n",
    "        \n",
    "        # location & scale parameters\n",
    "        if mean_prior is None:\n",
    "            self.mean = np.zeros((d, self.n))\n",
    "        else:\n",
    "            self.mean = mean_prior\n",
    "        if cov_prior is None:\n",
    "            self.cov = np.eye(d)\n",
    "        else:\n",
    "            self.cov = cov_prior\n",
    "\n",
    "        \n",
    "    def sample(self, delta):\n",
    "        L = np.linalg.cholesky(self.cov)\n",
    "        d, n = self.mean.shape\n",
    "        # rejection sampling\n",
    "        accept = False\n",
    "        while not accept:\n",
    "            theta = self.mean + L @ np.random.randn(d, n)\n",
    "            G = compute_gain(theta, self.Q, self.R)\n",
    "            accept = self.system.is_stable(G, delta)\n",
    "        return theta\n",
    "    \n",
    "    def update(self, z, x_next):\n",
    "        # Bayesian update of parameters\n",
    "        # z = (x_1, ..., x_n, u_1, ..., u_m)\n",
    "        cov_times_z = self.cov @ z\n",
    "        denom = 1 + np.dot(z, cov_times_z)\n",
    "        self.mean += np.outer(cov_times_z, x_next - z @ self.mean) / denom\n",
    "        self.cov -= np.outer(cov_times_z, cov_times_z) / denom\n",
    "        return\n",
    "    \n",
    "    @property\n",
    "    def cov_sz(self):\n",
    "        return np.prod(np.linalg.eigvals(self.cov))"
   ]
  },
  {
   "cell_type": "code",
   "execution_count": null,
   "metadata": {
    "id": "65rnycXjnKkR"
   },
   "outputs": [],
   "source": [
    "def PSRL_LQ(system: LinearSystem, Q, R, mean_prior=None, cov_prior=None, delta=0.999, max_t=10000, verbose=True):\n",
    "    distribution = Distribution(system, Q=Q, R=R, mean_prior=mean_prior, cov_prior=cov_prior)\n",
    "    \n",
    "    cost_arr = []\n",
    "    state_arr = []\n",
    "    cost = 0.\n",
    "    t = 0\n",
    "    t_init = 0\n",
    "    ep_len = 1\n",
    "    x = system.reset()\n",
    "    while True:\n",
    "        theta = distribution.sample(delta=delta)\n",
    "        G = compute_gain(theta, Q, R)\n",
    "        init_cov_sz = distribution.cov_sz\n",
    "        current_cov_sz = init_cov_sz\n",
    "        while (t <= t_init + ep_len) and (current_cov_sz >= 0.5 * init_cov_sz):\n",
    "            \n",
    "            u = G @ x\n",
    "            state_arr.append(x)\n",
    "            cost += np.dot(x, Q @ x) + np.dot(u, R @ u)\n",
    "            cost_arr.append(cost)\n",
    "            z = np.concatenate([x, u])\n",
    "            x_next = system.step(u)\n",
    "            distribution.update(z=z, x_next=x_next)\n",
    "            x = x_next\n",
    "            t += 1\n",
    "            if verbose and t % 1000 == 0:\n",
    "                print('{} steps completed'.format(t))\n",
    "            \n",
    "            if t >= max_t:\n",
    "                break\n",
    "        if t >= max_t:\n",
    "            break\n",
    "        ep_len = t - t_init\n",
    "        t_init = t\n",
    "        \n",
    "    return theta, cost_arr, state_arr"
   ]
  },
  {
   "cell_type": "markdown",
   "metadata": {
    "id": "7LPMIoGcnKkR"
   },
   "source": [
    "# Experiment"
   ]
  },
  {
   "cell_type": "code",
   "execution_count": null,
   "metadata": {
    "id": "W_xGg7BNnKkR"
   },
   "outputs": [],
   "source": [
    "n, m = 3, 2\n",
    "\n",
    "h = 0.1\n",
    "A2 = np.array([\n",
    "    [1., 0., -h ** 2],\n",
    "    [0., 1., h ** 2],\n",
    "    [0., 0., 1.]\n",
    "])\n",
    "\n",
    "B2 = np.array([\n",
    "    [h / np.sqrt(2.), 0.],\n",
    "    [h / np.sqrt(2.), 0.],\n",
    "    [0., 1.]\n",
    "])\n",
    "x0 = np.array([0., 200., 0.])\n",
    "\n",
    "# check controllability\n",
    "C = ctrb(A2, B2)\n",
    "assert np.linalg.matrix_rank(C) == 3\n",
    "\n",
    "Q2 = np.diag([1., 1., .5])\n",
    "R2 = 0.1 * np.eye(2)\n",
    "\n",
    "theta2 = np.hstack([A2, B2]).T\n",
    "# set mean prior\n",
    "# encoding domain knowledge is possible!\n",
    "mu0 = theta2 + 0.3 * np.random.rand()\n",
    "mu0 = 0.5 * np.ones((n + m, n))\n",
    "# sigma0 = .01 * np.eye(n + m)"
   ]
  },
  {
   "cell_type": "code",
   "execution_count": null,
   "metadata": {
    "colab": {
     "base_uri": "https://localhost:8080/"
    },
    "executionInfo": {
     "elapsed": 761,
     "status": "ok",
     "timestamp": 1627116214162,
     "user": {
      "displayName": "­박민규 / 학생 / 전기·정보공학부",
      "photoUrl": "",
      "userId": "15454198223134513846"
     },
     "user_tz": -540
    },
    "id": "pu7mem9EnKkR",
    "outputId": "17e96b36-bde1-48ca-9545-6ef900e42e2e"
   },
   "outputs": [
    {
     "name": "stdout",
     "output_type": "stream",
     "text": [
      "1000 steps completed\n",
      "2000 steps completed\n"
     ]
    }
   ],
   "source": [
    "car_system = LinearSystem(A=A2, B=B2, x0=x0)\n",
    "optimal_cost = np.trace(dare(A2, B2, Q2, R2)[0])\n",
    "\n",
    "T = 2000\n",
    "\n",
    "theta, c_arr, s_arr = PSRL_LQ(car_system, Q=Q2, R=R2, mean_prior=mu0, delta=1.5, max_t=T)\n",
    "regrets = np.array(c_arr) - optimal_cost * np.arange(1, T + 1)\n",
    "thetas = theta\n",
    "states = np.array(s_arr)"
   ]
  },
  {
   "cell_type": "code",
   "execution_count": null,
   "metadata": {
    "id": "wc7pUQzHnKkR"
   },
   "outputs": [],
   "source": [
    "x_ref = np.vstack([h * np.arange(T), h * np.arange(T), (np.pi / 4.) * np.ones(T)]).T\n",
    "x = states + x_ref\n",
    "x1 = x[:, 0]\n",
    "x2 = x[:, 1]"
   ]
  },
  {
   "cell_type": "code",
   "execution_count": null,
   "metadata": {
    "colab": {
     "base_uri": "https://localhost:8080/",
     "height": 729
    },
    "executionInfo": {
     "elapsed": 17457,
     "status": "ok",
     "timestamp": 1627116231616,
     "user": {
      "displayName": "­박민규 / 학생 / 전기·정보공학부",
      "photoUrl": "",
      "userId": "15454198223134513846"
     },
     "user_tz": -540
    },
    "id": "uipuHDhenKkR",
    "outputId": "ba6d67b6-87aa-4ff7-8035-ba60dcccd42a"
   },
   "outputs": [
    {
     "data": {
      "image/png": "[encoded data removed]",
      "text/plain": [
       "<Figure size 720x720 with 1 Axes>"
      ]
     },
     "metadata": {
      "needs_background": "light",
      "tags": []
     },
     "output_type": "display_data"
    }
   ],
   "source": [
    "plt.figure(figsize=(10, 10))\n",
    "plt.scatter(x0[0], x0[1], marker='x', label='starting point', color='black', linewidth=4)\n",
    "plt.plot(x1, x2, color='gray', label='vehicle trajectory')\n",
    "plt.plot(x_ref[:, 0], x_ref[:, 1], linestyle='dashed', color='black', label='reference path')\n",
    "plt.legend(fontsize=16)\n",
    "plt.xlabel(r'$x$', fontsize=20)\n",
    "plt.ylabel(r'$y$', fontsize=20)\n",
    "plt.tight_layout()\n",
    "plt.savefig('traj.png', dpi=1080)"
   ]
  },
  {
   "cell_type": "markdown",
   "metadata": {
    "id": "OxP-h89DnKkS"
   },
   "source": [
    "# Let's check how the regret goes!"
   ]
  },
  {
   "cell_type": "code",
   "execution_count": null,
   "metadata": {
    "colab": {
     "base_uri": "https://localhost:8080/"
    },
    "executionInfo": {
     "elapsed": 138917,
     "status": "ok",
     "timestamp": 1627116370527,
     "user": {
      "displayName": "­박민규 / 학생 / 전기·정보공학부",
      "photoUrl": "",
      "userId": "15454198223134513846"
     },
     "user_tz": -540
    },
    "id": "afAmR6Z3nKkS",
    "outputId": "ad26b6f9-a042-4f0b-cedc-2159d1f61b49"
   },
   "outputs": [
    {
     "name": "stderr",
     "output_type": "stream",
     "text": [
      "100%|██████████| 50/50 [02:19<00:00,  2.78s/it]\n"
     ]
    }
   ],
   "source": [
    "num_trials = 50\n",
    "T = 2000\n",
    "\n",
    "regrets = np.zeros((num_trials, T))\n",
    "\n",
    "for i in tqdm(range(num_trials)):\n",
    "    c_arr = PSRL_LQ(car_system, Q=Q2, R=R2, mean_prior=mu0, delta=1.5, max_t=T, verbose=False)[1]\n",
    "    regrets[i] = np.array(c_arr) - optimal_cost * np.arange(1, T + 1)"
   ]
  },
  {
   "cell_type": "code",
   "execution_count": null,
   "metadata": {
    "colab": {
     "base_uri": "https://localhost:8080/"
    },
    "executionInfo": {
     "elapsed": 4020,
     "status": "ok",
     "timestamp": 1627116374545,
     "user": {
      "displayName": "­박민규 / 학생 / 전기·정보공학부",
      "photoUrl": "",
      "userId": "15454198223134513846"
     },
     "user_tz": -540
    },
    "id": "w7XMkkw7nKkS",
    "outputId": "3b3c5c5b-4a92-42c8-f3c9-906c690c555f"
   },
   "outputs": [
    {
     "data": {
      "image/png": "[encoded data removed]",
      "text/plain": [
       "<Figure size 432x288 with 1 Axes>"
      ]
     },
     "metadata": {
      "needs_background": "light",
      "tags": []
     },
     "output_type": "display_data"
    }
   ],
   "source": [
    "mean_regret = np.mean(regrets, axis=0)\n",
    "std_regret = np.std(regrets, axis=0)\n",
    "\n",
    "xscale = -3\n",
    "unit_sz = 10 ** xscale\n",
    "x = unit_sz * np.arange(T)\n",
    "\n",
    "plt.plot(x, mean_regret, color='tab:blue')\n",
    "plt.fill_between(x, mean_regret - .5 * std_regret, mean_regret + .5 * std_regret, alpha=0.2, color='tab:blue')\n",
    "plt.xlabel(r'$T (\\times 10^{})$'.format(-xscale), fontsize=20)\n",
    "plt.ylabel(r'Regret$(T)$', fontsize=16)\n",
    "plt.title('Bayes Regret : LQ', fontsize=20)\n",
    "plt.xlim(0, unit_sz * T)\n",
    "plt.ylim(0)\n",
    "plt.grid()\n",
    "plt.tight_layout()\n",
    "plt.savefig('lq.png', dpi=1080)"
   ]
  },
  {
   "cell_type": "code",
   "execution_count": null,
   "metadata": {
    "id": "IrG_spLLnKkS"
   },
   "outputs": [],
   "source": []
  }
 ],
 "metadata": {
  "colab": {
   "collapsed_sections": [],
   "name": "ts.ipynb",
   "provenance": []
  },
  "kernelspec": {
   "display_name": "Python 3",
   "language": "python",
   "name": "python3"
  },
  "language_info": {
   "codemirror_mode": {
    "name": "ipython",
    "version": 3
   },
   "file_extension": ".py",
   "mimetype": "text/x-python",
   "name": "python",
   "nbconvert_exporter": "python",
   "pygments_lexer": "ipython3",
   "version": "3.6.10"
  }
 },
 "nbformat": 4,
 "nbformat_minor": 1
}
