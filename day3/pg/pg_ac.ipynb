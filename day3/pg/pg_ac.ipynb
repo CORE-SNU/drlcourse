{
 "cells": [
  {
   "cell_type": "markdown",
   "metadata": {
    "id": "FJu4KUieWf0g"
   },
   "source": [
    "# REINFORCE and Actor-Critic"
   ]
  },
  {
   "cell_type": "markdown",
   "metadata": {
    "id": "KQMZzsSSWf0j"
   },
   "source": [
    "## 0. Setups"
   ]
  },
  {
   "cell_type": "markdown",
   "metadata": {
    "id": "StmHu-uWWf0k"
   },
   "source": [
    "Import required libraries"
   ]
  },
  {
   "cell_type": "code",
   "execution_count": null,
   "metadata": {
    "id": "pY2vLrakWf0k"
   },
   "outputs": [],
   "source": [
    "import numpy as np\n",
    "import gym\n",
    "import time\n",
    "import random\n",
    "\n",
    "import torch\n",
    "import torch.nn as nn\n",
    "import torch.nn.functional as F\n",
    "import torch.optim as optim\n",
    "from torch.distributions import Categorical\n",
    "\n",
    "from sklearn.linear_model import LinearRegression, Lasso\n",
    "\n",
    "# For Colab users, turn this into true\n",
    "colab = True"
   ]
  },
  {
   "cell_type": "markdown",
   "metadata": {
    "id": "uohFfP8VWf0l"
   },
   "source": [
    "Select hardware to use - GPU or CPU"
   ]
  },
  {
   "cell_type": "code",
   "execution_count": null,
   "metadata": {
    "colab": {
     "base_uri": "https://localhost:8080/"
    },
    "executionInfo": {
     "elapsed": 9,
     "status": "ok",
     "timestamp": 1627110753987,
     "user": {
      "displayName": "­박민규 / 학생 / 전기·정보공학부",
      "photoUrl": "",
      "userId": "15454198223134513846"
     },
     "user_tz": -540
    },
    "id": "-43gLKRwWf0l",
    "outputId": "f5c92afa-245c-4f0e-df69-709661a02f57"
   },
   "outputs": [
    {
     "name": "stdout",
     "output_type": "stream",
     "text": [
      "cuda\n"
     ]
    }
   ],
   "source": [
    "device = torch.device('cuda' if torch.cuda.is_available() else 'cpu')\n",
    "#device = 'cpu'\n",
    "print(device)"
   ]
  },
  {
   "cell_type": "markdown",
   "metadata": {
    "id": "OpkPfcT5Wf0m"
   },
   "source": [
    "For rendering **[COLAB USE ONLY!]**"
   ]
  },
  {
   "cell_type": "code",
   "execution_count": null,
   "metadata": {
    "id": "ISrKQRs0Wf0n"
   },
   "outputs": [],
   "source": [
    "if colab:\n",
    "    !pip install gym pyvirtualdisplay > /dev/null 2>&1\n",
    "    !apt-get install -y xvfb python-opengl ffmpeg > /dev/null 2>&1\n",
    "    !apt-get update > /dev/null 2>&1\n",
    "    !apt-get install cmake > /dev/null 2>&1\n",
    "    !pip install --upgrade setuptools 2>&1\n",
    "    !pip install ez_setup > /dev/null 2>&1\n",
    "    !pip3 install box2d-py\n",
    "    !pip3 install gym[Box_2D]"
   ]
  },
  {
   "cell_type": "markdown",
   "metadata": {
    "id": "GgQW63WRWf0n"
   },
   "source": [
    "Build Environment and check MDP size"
   ]
  },
  {
   "cell_type": "code",
   "execution_count": null,
   "metadata": {
    "colab": {
     "base_uri": "https://localhost:8080/"
    },
    "executionInfo": {
     "elapsed": 8,
     "status": "ok",
     "timestamp": 1627110806321,
     "user": {
      "displayName": "­박민규 / 학생 / 전기·정보공학부",
      "photoUrl": "",
      "userId": "15454198223134513846"
     },
     "user_tz": -540
    },
    "id": "9kHSGOM0Wf0o",
    "outputId": "d8c65216-f1e1-4c42-efda-188a01126cbb"
   },
   "outputs": [
    {
     "name": "stdout",
     "output_type": "stream",
     "text": [
      "Dimension of state space / number of actions : 4 / 2\n"
     ]
    }
   ],
   "source": [
    "env = gym.make('CartPole-v1')\n",
    "env.seed(500)\n",
    "torch.manual_seed(500)\n",
    "\n",
    "# Configure MDP\n",
    "gamma = 0.99\n",
    "state_dim = env.observation_space.low.size\n",
    "num_action = env.action_space.n\n",
    "print('Dimension of state space / number of actions : %d / %d'%(state_dim, num_action))"
   ]
  },
  {
   "cell_type": "markdown",
   "metadata": {
    "id": "k8Yh0of9Wf0o"
   },
   "source": [
    "## 1. Create an policy instance"
   ]
  },
  {
   "cell_type": "markdown",
   "metadata": {
    "id": "hLMkhvVuWf0o"
   },
   "source": [
    " Define policy network"
   ]
  },
  {
   "cell_type": "code",
   "execution_count": null,
   "metadata": {
    "id": "I_FA24WlWf0p"
   },
   "outputs": [],
   "source": [
    "class Policy(nn.Module):\n",
    "    def __init__(self, state_dim, num_action, hidden_size1, hidden_size2):\n",
    "        super(Policy, self).__init__()\n",
    "        self.fc1 = nn.Linear(state_dim, hidden_size1)\n",
    "        self.fc2 = nn.Linear(hidden_size1, hidden_size2)\n",
    "        self.fc3 = nn.Linear(hidden_size2, num_action)\n",
    "\n",
    "    def forward(self, x):\n",
    "        x = self.fc1(x)\n",
    "        x = F.relu(x)\n",
    "        x = self.fc2(x)\n",
    "        x = F.relu(x)\n",
    "        action_score = self.fc3(x)\n",
    "        return F.softmax(action_score, dim=1)"
   ]
  },
  {
   "cell_type": "markdown",
   "metadata": {
    "id": "8yi4u_K3Wf0p"
   },
   "source": [
    "## 2. REINFORCE"
   ]
  },
  {
   "cell_type": "markdown",
   "metadata": {
    "id": "dD3U8Z5MWf0p"
   },
   "source": [
    "```python \n",
    "m = Categorial(probs)\n",
    "```\n",
    "makes neural network output computation graph (gradient) into discrete probability distribution, thus it is possible to calculate $\\nabla_\\theta\\log{\\pi_\\theta(a|s)}$"
   ]
  },
  {
   "cell_type": "code",
   "execution_count": null,
   "metadata": {
    "id": "t3KcYYr2Wf0q"
   },
   "outputs": [],
   "source": [
    "def select_action(state):\n",
    "    state = torch.from_numpy(state).float().unsqueeze(0)\n",
    "    state = state.to(device)\n",
    "    probs = pi(state)\n",
    "    \n",
    "    m = Categorical(probs)\n",
    "    action = m.sample()\n",
    "    \n",
    "    return action.item(), m.log_prob(action)\n",
    "\n",
    "def sample_trajectory(data, T):\n",
    "    # Reset environment to get new trajectory\n",
    "    state = env.reset()\n",
    "    r_sum, r_sum_discount = 0, 0\n",
    "    \n",
    "    for t in range(T):\n",
    "        # Get action from current policy and rollout\n",
    "        action, log_prob = select_action(state)\n",
    "        next_state, reward, done, _ = env.step(action)\n",
    "        r_sum += reward\n",
    "        r_sum_discount += reward * (gamma ** t) \n",
    "\n",
    "        # Store data\n",
    "        data['log_pi'].append(-log_prob) # (-) sign for gradient ascent\n",
    "        data['state'].append(state)\n",
    "        data['next_state'].append(next_state)\n",
    "        data['reward'].append(reward)\n",
    "        \n",
    "        # Step\n",
    "        state = next_state\n",
    "        if done:\n",
    "            break\n",
    "    \n",
    "    return r_sum, r_sum_discount"
   ]
  },
  {
   "cell_type": "markdown",
   "metadata": {
    "id": "rx230Kg4Wf0q"
   },
   "source": [
    "REINFORCE algorithm approximate gradient for policy parameter $\\theta$ with sampled trajectory\n",
    "$$ \\nabla_\\theta J(\\theta) \\approx \\frac{1}{N} \\sum^N_{i=1} \\big( \\sum^T_{t=0}\\nabla_\\theta\\log{\\pi_\\theta}(a_t|s_t) \\big) \\big( \\sum^T_{t=0} \\gamma^t r(s_t,a_t) \\big)$$\n",
    "\n",
    "\n",
    "With further approximation and use of baseline,\n",
    "$$ \\nabla_\\theta J(\\theta) \\approx \\frac{1}{N} \\sum^N_{i=1} \\sum^T_{t=0} \\big( \\nabla_\\theta\\log{\\pi_\\theta(a_t|s_t)} \\big) \\big( Q(s_t,a_t) - v(s_t) \\big)$$\n",
    "\n",
    "\n",
    "For REINFORCE, we use \n",
    "$$Q(s_t, a_t) \\approx \\sum^T_{t'=t} \\gamma^t r(s_{t'}, a_{t'})$$\n",
    "\n",
    "$$v^{\\pi_\\theta}(s_0) \\approx \\sum^N_{i=0} \\sum^T_{t=0} \\gamma^t r^i(s_t, a_t)$$ \n",
    "\n",
    "(Note that we use universial baseline!)"
   ]
  },
  {
   "cell_type": "code",
   "execution_count": null,
   "metadata": {
    "id": "JyyaPxk-Wf0q"
   },
   "outputs": [],
   "source": [
    "def calculate_PG(pi_returns_discounted, dataset):\n",
    "    pi_loss = 0\n",
    "    for data in dataset:\n",
    "        advantage, DCR = [], 0\n",
    "        for r in reversed(data['reward']):\n",
    "            # TODO : Caculate discounted return from t=i\n",
    "            # Hint : reversed() will give saved rewards in reversed order\n",
    "            # r_T, r_{T-1}, ... r_0\n",
    "            # DCR(T) = r_T\n",
    "            # DCR(T-1) = r_{T-1} + gamma * r_T\n",
    "            DCR = r + gamma * DCR\n",
    "            \n",
    "            # Q(s,a) is replaced with discounted sum of rewards (DCR)\n",
    "            # v(s) is replaced with empirical v(s_0)\n",
    "            advantage.insert(0, DCR - np.mean(pi_returns_discounted))\n",
    "\n",
    "        # TODO : alternate between two losses to see difference!\n",
    "        # pi_loss_vanilla = [log_pi * DCR for log_pi in data['log_pi']]\n",
    "        pi_loss_baseline = [log_pi * a for log_pi, a in zip(data['log_pi'], advantage)]\n",
    "        \n",
    "        # Take mean value\n",
    "        pi_loss += torch.cat(pi_loss_vanilla).sum()\n",
    "        \n",
    "    return pi_loss / num_trajs"
   ]
  },
  {
   "cell_type": "code",
   "execution_count": null,
   "metadata": {
    "id": "uTJzK7iiWf0q"
   },
   "outputs": [],
   "source": [
    "num_epochs = 100 # Num. of gradient steps\n",
    "num_trajs = 100 # N\n",
    "T = 10000 # T\n",
    "log_interval = 5\n",
    "total_time = []\n",
    "\n",
    "pi = Policy(state_dim, num_action, 128, 128).to(device)\n",
    "optimizer_pi = optim.Adam(pi.parameters(), lr=1e-3)\n",
    "\n",
    "# For logging\n",
    "pi_returns, pi_returns_discounted = [], []\n",
    "\n",
    "for epoch in range(num_epochs):\n",
    "    start_epoch = time.time()\n",
    "    \n",
    "    # On-policy dataset\n",
    "    # We cannot reuse samples!\n",
    "    dataset = []\n",
    "    \n",
    "    # Collect trajectories to perform gradient step\n",
    "    for N in range(num_trajs):\n",
    "        data = {'log_pi':[], 'state':[], 'next_state':[], 'reward':[]}\n",
    "        r_sum, r_sum_discount = sample_trajectory(data, T)\n",
    "        dataset.append(data)\n",
    "\n",
    "        # For logging - store most recent N trajectories\n",
    "        pi_returns.append(r_sum)\n",
    "        pi_returns_discounted.append(r_sum_discount)\n",
    "        if len(pi_returns) > num_trajs:\n",
    "            pi_returns.pop(0)\n",
    "            pi_returns_discounted.pop(0)\n",
    "    \n",
    "    # Perform pocliy gradient step\n",
    "    optimizer_pi.zero_grad()\n",
    "    pi_loss = calculate_PG(pi_returns_discounted, dataset)\n",
    "    pi_loss.backward()\n",
    "    optimizer_pi.step()\n",
    "    \n",
    "    # Logging - print most recent epoch result\n",
    "    epoch_time = time.time() - start_epoch\n",
    "    total_time.append(epoch_time)\n",
    "    if epoch % log_interval == 0:\n",
    "        time_elapsed = np.sum(total_time)\n",
    "        time_remain = np.mean(total_time) * num_epochs - time_elapsed\n",
    "        print('Epoch {}\\tReturn_mean: {:.2f}\\tReturn_std: {:.2f}\\tTime(Elapsed/Remain): {:.2f}/{:.2f} (mins)'.format(\n",
    "            epoch, np.mean(pi_returns), np.std(pi_returns), time_elapsed/60, time_remain/60))"
   ]
  },
  {
   "cell_type": "markdown",
   "metadata": {
    "id": "hvM6RFyX2gmS"
   },
   "source": [
    "## 3. Actor-Critic (Linear Architecture)"
   ]
  },
  {
   "cell_type": "code",
   "execution_count": null,
   "metadata": {
    "id": "bgnEVIG_Wf0r"
   },
   "outputs": [],
   "source": [
    "from numpy import linalg as LA\n",
    "\n",
    "# Calculate feature vector\n",
    "# state[0] : Cart pos\n",
    "# state[1] : Cart speed\n",
    "# state[2] : Pole angle\n",
    "# state[3] : Pole velocity at tip\n",
    "\n",
    "state2 = [-0.12, 0, 0.12] # termination condition\n",
    "state3 = [-1, 0, 1]\n",
    "\n",
    "mu = []\n",
    "for s2 in state2:\n",
    "    for s3 in state3:\n",
    "        mu.append([s2, s3])\n",
    "\n",
    "def state2feature(state):\n",
    "    phi = []\n",
    "    for f in mu:\n",
    "        rad_base = LA.norm(np.array(state[-2:])-np.array(f)) ** 2\n",
    "        phi.append(np.exp(-0.5*rad_base))\n",
    "    return np.array(phi)\n",
    "\n",
    "\n",
    "def calculate_vf(dataset, vf):\n",
    "    X, y = [], []\n",
    "    \n",
    "    for data in dataset:\n",
    "        for s, next_s, r in zip(data['state'], data['next_state'], data['reward']):\n",
    "            v = state2feature(s)\n",
    "            Q = r\n",
    "            if vf is not None:\n",
    "                Q = r + gamma * vf.predict(state2feature(next_s).reshape(1, -1))[0]\n",
    "            X.append(v)\n",
    "            y.append(Q)\n",
    "    \n",
    "    return X, y\n",
    "\n",
    "\n",
    "def get_advantage(data, vf):\n",
    "    advantage, baseline = [], []\n",
    "    \n",
    "    for s, next_s, r in zip(data['state'], data['next_state'], data['reward']):\n",
    "        v = vf.predict(state2feature(s).reshape(1, -1))[0]\n",
    "        v_next = vf.predict(state2feature(next_s).reshape(1, -1))[0]\n",
    "        # TODO: Complete advantage calculation by calculating Q-value\n",
    "        # Hint: SARSA style!\n",
    "        Q = r + gamma * v_next - v\n",
    "        A = Q - v\n",
    "        \n",
    "        advantage.append(A)\n",
    "        baseline.append(v)\n",
    "    \n",
    "    return advantage, baseline\n",
    "\n",
    "\n",
    "def calculate_AC_PG(vf, pi_returns_discounted, dataset):\n",
    "    pi_loss = 0\n",
    "    for data in dataset:\n",
    "        # For linear Actor-Critic\n",
    "        advantage = []\n",
    "        _, v = get_advantage(data, vf)\n",
    "        DCR = 0\n",
    "        for i, r in enumerate(reversed(data['reward'])):\n",
    "            DCR = r + gamma * DCR\n",
    "            advantage.insert(0, DCR - v[i]) # For practical algorithm, we just adopt baseline\n",
    "\n",
    "        # Compute each element of gradient\n",
    "        pi_loss_linear_vf = [log_pi * a for log_pi, a in zip(data['log_pi'], advantage)]\n",
    "        \n",
    "        # Sums up log_prob * weight\n",
    "        pi_loss += torch.cat(pi_loss_linear_vf).sum()\n",
    "        \n",
    "    return pi_loss / num_trajs"
   ]
  },
  {
   "cell_type": "code",
   "execution_count": null,
   "metadata": {
    "id": "xjUVMwGDWf0s"
   },
   "outputs": [],
   "source": [
    "num_epochs = 100\n",
    "num_trajs = 100\n",
    "T = 10000\n",
    "log_interval = 5\n",
    "total_time = []\n",
    "\n",
    "pi = Policy(state_dim, num_action, 128, 128).to(device)\n",
    "optimizer_pi = optim.Adam(pi.parameters(), lr=1e-3)\n",
    "vf = None\n",
    "\n",
    "# For logging\n",
    "pi_returns, pi_returns_discounted = [], []\n",
    "\n",
    "dataset_vf = []\n",
    "for epoch in range(num_epochs):\n",
    "    start_epoch = time.time()\n",
    "    \n",
    "    # On-policy dataset\n",
    "    dataset = []\n",
    "    \n",
    "    # Collect trajectories to perform gradient step\n",
    "    for N in range(num_trajs):\n",
    "        data = {'log_pi':[], 'state':[], 'next_state':[], 'reward':[]}\n",
    "        r_sum, r_sum_discount = sample_trajectory(data, T)\n",
    "        dataset.append(data)\n",
    "        dataset_vf.append(data)\n",
    "\n",
    "        # For logging - store most recent N trajectories\n",
    "        pi_returns.append(r_sum)\n",
    "        pi_returns_discounted.append(r_sum_discount)\n",
    "        if len(pi_returns) > num_trajs:\n",
    "            pi_returns.pop(0)\n",
    "            pi_returns_discounted.pop(0)\n",
    "\n",
    "    ### NEW : update critic ###\n",
    "    X, y = calculate_vf(dataset_vf, vf)\n",
    "    vf = LinearRegression().fit(X, y)\n",
    "    \n",
    "    # Perform pocliy gradient step\n",
    "    optimizer_pi.zero_grad()\n",
    "    pi_loss = calculate_AC_PG(vf, pi_returns_discounted, dataset)\n",
    "    pi_loss.backward()\n",
    "    optimizer_pi.step()\n",
    "    \n",
    "    # Logging - print most recent epoch result\n",
    "    epoch_time = time.time() - start_epoch\n",
    "    total_time.append(epoch_time)\n",
    "    if epoch % log_interval == 0:\n",
    "        dataset_vf = []\n",
    "        time_elapsed = np.sum(total_time)\n",
    "        time_remain = np.mean(total_time) * num_epochs - time_elapsed\n",
    "        print('Epoch {}\\tReturn_mean: {:.2f}\\tReturn_std: {:.2f}\\tTime(Elapsed/Remain): {:.2f}/{:.2f} (mins)'.format(\n",
    "            epoch, np.mean(pi_returns), np.std(pi_returns), time_elapsed/60, time_remain/60))"
   ]
  },
  {
   "cell_type": "markdown",
   "metadata": {
    "id": "UYAym5jgWf0s"
   },
   "source": [
    "## 4. Visualize result"
   ]
  },
  {
   "cell_type": "markdown",
   "metadata": {
    "id": "tCfJmHFyWf0t"
   },
   "source": [
    "For rendering **[COLAB USE ONLY!]**"
   ]
  },
  {
   "cell_type": "code",
   "execution_count": null,
   "metadata": {
    "id": "cy_rQDIOWf0t"
   },
   "outputs": [],
   "source": [
    "from gym.wrappers import Monitor\n",
    "import glob\n",
    "import io\n",
    "import base64\n",
    "from IPython.display import HTML\n",
    "from pyvirtualdisplay import Display\n",
    "from IPython import display as ipythondisplay\n",
    "\n",
    "def show_video():\n",
    "    mp4list = glob.glob('video/*.mp4')\n",
    "    if len(mp4list) > 0:\n",
    "        mp4 = mp4list[0]\n",
    "        video = io.open(mp4, 'r+b').read()\n",
    "        encoded = base64.b64encode(video)\n",
    "        ipythondisplay.display(HTML(data='''<video alt=\"test\" autoplay \n",
    "            loop controls style=\"height: 400px;\">\n",
    "            <source src=\"data:video/mp4;base64,{0}\" type=\"video/mp4\" />\n",
    "            </video>'''.format(encoded.decode('ascii'))))\n",
    "    else:\n",
    "        print(\"Could not find video\")\n",
    "    \n",
    "def wrap_env(env):\n",
    "    env = Monitor(env, './video', force=True)\n",
    "    return env\n",
    "\n",
    "if colab:\n",
    "    display = Display(visible=0, size=(1400, 900))\n",
    "    display.start()\n",
    "\n",
    "    env = wrap_env(env)"
   ]
  },
  {
   "cell_type": "code",
   "execution_count": null,
   "metadata": {
    "colab": {
     "base_uri": "https://localhost:8080/",
     "height": 421
    },
    "executionInfo": {
     "elapsed": 8085,
     "status": "ok",
     "timestamp": 1627111358080,
     "user": {
      "displayName": "­박민규 / 학생 / 전기·정보공학부",
      "photoUrl": "",
      "userId": "15454198223134513846"
     },
     "user_tz": -540
    },
    "id": "vFet5p_6Wf0t",
    "outputId": "5fe1e85d-609f-4137-c4e7-73a169452875"
   },
   "outputs": [
    {
     "data": {
      "text/html": [
       "<video alt=\"test\" autoplay \n",
       "            loop controls style=\"height: 400px;\">\n",
       "            <source src=\"data:video/mp4;base64,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\" type=\"video/mp4\" />\n",
       "            </video>"
      ],
      "text/plain": [
       "<IPython.core.display.HTML object>"
      ]
     },
     "metadata": {
      "tags": []
     },
     "output_type": "display_data"
    }
   ],
   "source": [
    "env = gym.make('CartPole-v1')\n",
    "if colab:\n",
    "  env = wrap_env(env)\n",
    "state = env.reset()\n",
    "\n",
    "while True:\n",
    "    env.render()\n",
    "    action, log_prob = select_action(state)\n",
    "    state, reward, done, info = env.step(action)\n",
    "    if done: \n",
    "        break\n",
    "            \n",
    "env.close()\n",
    "if colab:\n",
    "    show_video()"
   ]
  }
 ],
 "metadata": {
  "colab": {
   "collapsed_sections": [],
   "name": "pg_ac.ipynb",
   "provenance": []
  },
  "kernelspec": {
   "display_name": "Python 3",
   "language": "python",
   "name": "python3"
  },
  "language_info": {
   "codemirror_mode": {
    "name": "ipython",
    "version": 3
   },
   "file_extension": ".py",
   "mimetype": "text/x-python",
   "name": "python",
   "nbconvert_exporter": "python",
   "pygments_lexer": "ipython3",
   "version": "3.6.10"
  }
 },
 "nbformat": 4,
 "nbformat_minor": 1
}
