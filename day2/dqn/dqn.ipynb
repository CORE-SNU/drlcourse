{
 "cells": [
  {
   "cell_type": "markdown",
   "metadata": {
    "id": "-Qk7-5P4Rrc-"
   },
   "source": [
    "# Deep Q-network Practice"
   ]
  },
  {
   "cell_type": "markdown",
   "metadata": {
    "id": "fEVv-3VNR1zc"
   },
   "source": [
    "If you run in jupyter, turn \n",
    "\n",
    "```\n",
    "colab = False\n",
    "```"
   ]
  },
  {
   "cell_type": "code",
   "execution_count": null,
   "metadata": {
    "colab": {
     "base_uri": "https://localhost:8080/"
    },
    "executionInfo": {
     "elapsed": 15368,
     "status": "ok",
     "timestamp": 1627110421842,
     "user": {
      "displayName": "­박민규 / 학생 / 전기·정보공학부",
      "photoUrl": "",
      "userId": "15454198223134513846"
     },
     "user_tz": -540
    },
    "id": "Y9VBDokpR4we",
    "outputId": "73bf8c89-4928-41e2-c9f9-15571a3b9c6f"
   },
   "outputs": [
    {
     "name": "stdout",
     "output_type": "stream",
     "text": [
      "Requirement already satisfied: setuptools in /usr/local/lib/python3.7/dist-packages (57.4.0)\n"
     ]
    }
   ],
   "source": [
    "colab = True\n",
    "if colab:\n",
    "    !pip install gym pyvirtualdisplay > /dev/null 2>&1\n",
    "    !apt-get install -y xvfb python-opengl ffmpeg > /dev/null 2>&1\n",
    "    !apt-get update > /dev/null 2>&1\n",
    "    !apt-get install cmake > /dev/null 2>&1\n",
    "    !pip install --upgrade setuptools 2>&1\n",
    "    !pip install ez_setup > /dev/null 2>&1"
   ]
  },
  {
   "cell_type": "code",
   "execution_count": null,
   "metadata": {
    "colab": {
     "base_uri": "https://localhost:8080/"
    },
    "executionInfo": {
     "elapsed": 293,
     "status": "ok",
     "timestamp": 1627110427200,
     "user": {
      "displayName": "­박민규 / 학생 / 전기·정보공학부",
      "photoUrl": "",
      "userId": "15454198223134513846"
     },
     "user_tz": -540
    },
    "id": "PsyShng6RrdA",
    "outputId": "a3954f16-1c2b-4d28-d3ef-a3e31c91faa1"
   },
   "outputs": [
    {
     "name": "stdout",
     "output_type": "stream",
     "text": [
      "Drive already mounted at /content/drive; to attempt to forcibly remount, call drive.mount(\"/content/drive\", force_remount=True).\n",
      "/content/drive/MyDrive/Colab Notebooks/rl-master/day2/dqn\n",
      "buffer.py  learning_curves  __pycache__  setup.ipynb  utils.py\n",
      "dqn.ipynb  plot.ipynb\t    schedule.py  snapshots    video\n"
     ]
    }
   ],
   "source": [
    "if colab:\n",
    "    from google.colab import drive\n",
    "    drive.mount('/content/drive')\n",
    "\n",
    "    %cd /content/drive/MyDrive/Colab\\ Notebooks/rl-master/day2/dqn\n",
    "    !ls"
   ]
  },
  {
   "cell_type": "markdown",
   "metadata": {
    "id": "92N_slUFRrdB"
   },
   "source": [
    "# -1. Introduction to Gym environment"
   ]
  },
  {
   "cell_type": "markdown",
   "metadata": {
    "id": "EgYlQyPDRrdC"
   },
   "source": [
    "## -1.1 Prerequisites"
   ]
  },
  {
   "cell_type": "markdown",
   "metadata": {
    "id": "WELkYeNcRrdD"
   },
   "source": [
    "# 0. Define Q-network & policy-network"
   ]
  },
  {
   "cell_type": "code",
   "execution_count": null,
   "metadata": {
    "id": "USpBW4V1RrdE"
   },
   "outputs": [],
   "source": [
    "import torch\n",
    "import torch.nn as nn\n",
    "from torch.nn import MSELoss\n",
    "import torch.nn.functional as F\n",
    "import copy\n",
    "import os\n",
    "import csv\n",
    "import numpy as np\n",
    "import torch\n",
    "from torch.optim import Adam\n",
    "from buffer import ReplayBuffer\n",
    "from utils import save_snapshot, recover_snapshot, load_model\n",
    "from schedule import LinearSchedule\n",
    "import gym"
   ]
  },
  {
   "cell_type": "code",
   "execution_count": null,
   "metadata": {
    "colab": {
     "base_uri": "https://localhost:8080/"
    },
    "executionInfo": {
     "elapsed": 302,
     "status": "ok",
     "timestamp": 1627110477862,
     "user": {
      "displayName": "­박민규 / 학생 / 전기·정보공학부",
      "photoUrl": "",
      "userId": "15454198223134513846"
     },
     "user_tz": -540
    },
    "id": "bxWmxxWIRrdF",
    "outputId": "b77699cd-49c2-4898-a278-f860144f2b0b"
   },
   "outputs": [
    {
     "name": "stdout",
     "output_type": "stream",
     "text": [
      "current device = cuda\n"
     ]
    }
   ],
   "source": [
    "device = 'cuda' if torch.cuda.is_available() else 'cpu'\n",
    "print('current device =', device)"
   ]
  },
  {
   "cell_type": "code",
   "execution_count": null,
   "metadata": {
    "id": "wKSTslpORrdG"
   },
   "outputs": [],
   "source": [
    "# critic network definition\n",
    "# multi-layer perceptron (with 2 hidden layers)\n",
    "class Critic(nn.Module):\n",
    "    def __init__(self, state_dim, num_action, hidden_size1, hidden_size2):\n",
    "        super(Critic, self).__init__()\n",
    "        self.fc1 = nn.Linear(state_dim, hidden_size1)\n",
    "        self.fc2 = nn.Linear(hidden_size1, hidden_size2)\n",
    "        self.fc3 = nn.Linear(hidden_size2, num_action)\n",
    "\n",
    "\n",
    "    def forward(self, state):\n",
    "        # given a state s, the network returns a vector Q(s,) of length |A|\n",
    "        x = F.relu(self.fc1(state))\n",
    "        x = F.relu(self.fc2(x))\n",
    "        q = self.fc3(x)\n",
    "        return q"
   ]
  },
  {
   "cell_type": "markdown",
   "metadata": {
    "id": "QAr9QxHNRrdG"
   },
   "source": [
    "# 1. Define DQN agent"
   ]
  },
  {
   "cell_type": "code",
   "execution_count": null,
   "metadata": {
    "id": "MGYt9AN1RrdH"
   },
   "outputs": [],
   "source": [
    "class DQNAgent:\n",
    "    def __init__(self, obs_dim, num_act, hidden1, hidden2):\n",
    "        self.obs_dim = obs_dim\n",
    "        self.num_act = num_act\n",
    "        # networks\n",
    "        self.critic = Critic(obs_dim, num_act, hidden1, hidden2).to(device)\n",
    "                \n",
    "    def act(self, state, epsilon=0.0):\n",
    "        # simple implementation of \\epsilon-greedy method\n",
    "        # TODO : Complete epsilon-greedy action selection\n",
    "        # Hint : np.randon.rand() will generate random number in [0,1]\n",
    "        #if np.random.rand()\n",
    "            return np.random.randint(self.num_act)\n",
    "        else:\n",
    "            # greedy selection\n",
    "            self.critic.eval()\n",
    "            s = torch.Tensor(state).view(1, self.obs_dim).to(device)\n",
    "            q = self.critic(s)\n",
    "            return np.argmax(q.cpu().detach().numpy())"
   ]
  },
  {
   "cell_type": "markdown",
   "metadata": {
    "id": "fxyKOc9aRrdH"
   },
   "source": [
    "# 2. Implement one-step param update"
   ]
  },
  {
   "cell_type": "code",
   "execution_count": null,
   "metadata": {
    "id": "wkRLMO0yRrdI"
   },
   "outputs": [],
   "source": [
    "def update(agent, replay_buf, gamma, critic_optim, target_critic, tau, batch_size):\n",
    "    # agent : agent with networks to be trained\n",
    "    # replay_buf : replay buf from which we sample a batch\n",
    "    # actor_optim / critic_optim : torch optimizers\n",
    "    # tau : parameter for soft target update\n",
    "    \n",
    "    agent.critic.train()\n",
    "\n",
    "    batch = replay_buf.sample_batch(batch_size)\n",
    "\n",
    "    # unroll batch\n",
    "    with torch.no_grad():\n",
    "        observations = torch.Tensor(batch['state']).to(device)\n",
    "        actions = torch.tensor(batch['action'], dtype=torch.long).to(device)\n",
    "        rewards = torch.Tensor(batch['reward']).to(device)\n",
    "        next_observations = torch.Tensor(batch['next_state']).to(device)\n",
    "        terminals = torch.Tensor(batch['done']).to(device)\n",
    "\n",
    "        mask = 1.0 - terminals\n",
    "        ### double DQN? ###\n",
    "        # a_inner = torch.unsqueeze(torch.max(agent.critic(next_observations), 1)[1], 1).detach()\n",
    "        # next_q_double = target_critic(observations).gather(1, a_inner)\n",
    "        # next_q_double = mask * next_q_double\n",
    "        ###################\n",
    "        next_q = torch.unsqueeze(target_critic(next_observations).max(1)[0], 1)\n",
    "        next_q = mask * next_q\n",
    "        \n",
    "        # TODO : Build Bellman target for Q-update\n",
    "        target = rewards + gamma * next_q \n",
    "\n",
    "    out = agent.critic(observations).gather(1, actions)\n",
    "\n",
    "    loss_ftn = MSELoss()\n",
    "    loss = loss_ftn(out, target)\n",
    "\n",
    "    critic_optim.zero_grad()\n",
    "    loss.backward()\n",
    "    critic_optim.step()\n",
    "        \n",
    "    # soft target update (both actor & critic network)\n",
    "    for p, targ_p in zip(agent.critic.parameters(), target_critic.parameters()):\n",
    "        targ_p.data.copy_((1. - tau) * targ_p + tau * p)\n",
    "        \n",
    "    return"
   ]
  },
  {
   "cell_type": "code",
   "execution_count": null,
   "metadata": {
    "id": "ZWDysql-RrdI"
   },
   "outputs": [],
   "source": [
    "def evaluate(agent, env, num_episodes=5):\n",
    "\n",
    "    sum_scores = 0.\n",
    "    \n",
    "    for i in range(num_episodes):\n",
    "        obs = env.reset()\n",
    "        done = False\n",
    "        score = 0.\n",
    "        \n",
    "        while not done:\n",
    "            action = agent.act(obs)\n",
    "            obs, rew, done, _ = env.step(action)\n",
    "            score += rew\n",
    "        sum_scores += score\n",
    "    avg_score = sum_scores / num_episodes\n",
    "    \n",
    "    return avg_score"
   ]
  },
  {
   "cell_type": "markdown",
   "metadata": {
    "id": "Dx4Um-dtRrdJ"
   },
   "source": [
    "# 3. Combining these, we finally have..."
   ]
  },
  {
   "cell_type": "code",
   "execution_count": null,
   "metadata": {
    "id": "V3I8TRN1RrdJ"
   },
   "outputs": [],
   "source": [
    "def train(agent, env, gamma, \n",
    "          lr, tau,\n",
    "          ep_len, num_updates, batch_size,\n",
    "          init_buffer=5000, buffer_size=100000,\n",
    "          start_train=2000, train_interval=50,\n",
    "          eval_interval=2000, snapshot_interval=10000,\n",
    "          path=None):\n",
    "    \n",
    "    target_critic = copy.deepcopy(agent.critic)\n",
    "    \n",
    "    # environment for evaluation\n",
    "    test_env = copy.deepcopy(env)\n",
    "    # freeze target network\n",
    "    for p in target_critic.parameters():\n",
    "        p.requires_grad_(False)\n",
    "\n",
    "    critic_optim = Adam(agent.critic.parameters(), lr=lr)\n",
    "\n",
    "    if path is not None:\n",
    "        recover_snapshot(path, agent.critic,\n",
    "                         target_critic, critic_optim,\n",
    "                         device=device\n",
    "                        )\n",
    "        # load snapshot\n",
    "    \n",
    "    obs_dim = env.observation_space.shape[0]\n",
    "    num_act = env.action_space.n\n",
    "    \n",
    "    replay_buf = ReplayBuffer(obs_dim, buffer_size)\n",
    "    \n",
    "    max_epsilon = 1.\n",
    "    min_epsilon = 0.02\n",
    "    exploration_schedule = LinearSchedule(begin_t=start_train,\n",
    "                                          end_t=num_updates,\n",
    "                                          begin_value=max_epsilon,\n",
    "                                          end_value=min_epsilon\n",
    "                                         )\n",
    "    save_path = './snapshots/'\n",
    "    os.makedirs(save_path, exist_ok=True)\n",
    "    os.makedirs('./learning_curves/', exist_ok=True)\n",
    "    log_file = open('./learning_curves/res.csv',\n",
    "                    'w',\n",
    "                    encoding='utf-8',\n",
    "                    newline=''\n",
    "                   )\n",
    "    logger = csv.writer(log_file)\n",
    "    \n",
    "    # main loop\n",
    "    obs = env.reset()\n",
    "    done = False\n",
    "    step_count = 0\n",
    "    \n",
    "    for t in range(num_updates + 1):\n",
    "        if t < init_buffer:\n",
    "            # perform random action until we collect sufficiently many samples\n",
    "            # this is for exploration purpose\n",
    "            action = env.action_space.sample()\n",
    "        else:\n",
    "            # executes epsilon-greedy action\n",
    "            epsilon = exploration_schedule(t)\n",
    "            action = agent.act(obs, epsilon=epsilon)\n",
    "            \n",
    "        next_obs, rew, done, _ = env.step(action)\n",
    "        step_count += 1\n",
    "        if step_count == ep_len:\n",
    "            # if the next_state is not terminal but done is set to True by gym env wrapper\n",
    "            done = False\n",
    "            \n",
    "        replay_buf.append(obs, action, next_obs, rew, done)\n",
    "        obs = next_obs\n",
    "        \n",
    "        if done == True or step_count == ep_len:\n",
    "            # reset environment if current environment reaches a terminal state \n",
    "            # or step count reaches predefined length\n",
    "            obs = env.reset()\n",
    "            done = False\n",
    "            step_count = 0\n",
    "            # score = evaluate(agent, env)\n",
    "            # print('[iteration {}] evaluation score : {}'.format(t, score))\n",
    "        \n",
    "        if t % eval_interval == 0:\n",
    "            avg_score = evaluate(agent, test_env, num_episodes=5)\n",
    "            print('[iter {}] average score = {} (over 5 episodes)'.format(t, avg_score))\n",
    "            evaluation_log = [t, avg_score]\n",
    "            logger.writerow(evaluation_log)\n",
    "        \n",
    "        if t % snapshot_interval == 0:\n",
    "            snapshot_path = save_path + 'iter{}_'.format(t)\n",
    "            # save weight & training progress\n",
    "            save_snapshot(snapshot_path, agent.critic, target_critic, critic_optim)\n",
    "        \n",
    "        if t > start_train and t % train_interval == 0:\n",
    "            # start training after fixed number of steps\n",
    "            # this may mitigate overfitting of networks to the \n",
    "            # small number of samples collected during the initial stage of training\n",
    "            for _ in range(train_interval):\n",
    "                update(agent,\n",
    "                       replay_buf,\n",
    "                       gamma,\n",
    "                       critic_optim,\n",
    "                       target_critic,\n",
    "                       tau,\n",
    "                       batch_size\n",
    "                      )\n",
    "\n",
    "    log_file.close()"
   ]
  },
  {
   "cell_type": "markdown",
   "metadata": {
    "id": "WlIERr_hRrdK"
   },
   "source": [
    "# 4. Let's train our agent!"
   ]
  },
  {
   "cell_type": "code",
   "execution_count": null,
   "metadata": {
    "colab": {
     "base_uri": "https://localhost:8080/"
    },
    "executionInfo": {
     "elapsed": 316,
     "status": "ok",
     "timestamp": 1627110512394,
     "user": {
      "displayName": "­박민규 / 학생 / 전기·정보공학부",
      "photoUrl": "",
      "userId": "15454198223134513846"
     },
     "user_tz": -540
    },
    "id": "XvylvSlGRrdL",
    "outputId": "c2f668f1-e293-4f6b-e5b9-0c798bd58ad0"
   },
   "outputs": [
    {
     "name": "stdout",
     "output_type": "stream",
     "text": [
      "observation space dim. : 4 / # actions : 2\n"
     ]
    }
   ],
   "source": [
    "env = gym.make('CartPole-v1')\n",
    "obs_dim = env.observation_space.shape[0]\n",
    "num_act = env.action_space.n\n",
    "\n",
    "print('observation space dim. : {} / # actions : {}'.format(obs_dim, num_act))"
   ]
  },
  {
   "cell_type": "code",
   "execution_count": null,
   "metadata": {
    "id": "62n0MP4lRrdC"
   },
   "outputs": [],
   "source": [
    "if colab:\n",
    "    import gym\n",
    "    from gym.wrappers import Monitor\n",
    "    import glob\n",
    "    import io\n",
    "    import base64\n",
    "    from IPython.display import HTML\n",
    "    from pyvirtualdisplay import Display\n",
    "    from IPython import display as ipythondisplay\n",
    "\n",
    "    display = Display(visible=0, size=(1400, 900))\n",
    "    display.start()\n",
    "\n",
    "    def show_video():\n",
    "      mp4list = glob.glob('video/*.mp4')\n",
    "      if len(mp4list) > 0:\n",
    "        mp4 = mp4list[0]\n",
    "        video = io.open(mp4, 'r+b').read()\n",
    "        encoded = base64.b64encode(video)\n",
    "        ipythondisplay.display(HTML(data='''<video alt=\"test\" autoplay \n",
    "                    loop controls style=\"height: 400px;\">\n",
    "                    <source src=\"data:video/mp4;base64,{0}\" type=\"video/mp4\" />\n",
    "                </video>'''.format(encoded.decode('ascii'))))\n",
    "      else: \n",
    "        print(\"Could not find video\")\n",
    "        \n",
    "\n",
    "    def wrap_env(env):\n",
    "      env = Monitor(env, './video', force=True)\n",
    "      return env\n",
    "\n",
    "    env = wrap_env(env)"
   ]
  },
  {
   "cell_type": "code",
   "execution_count": null,
   "metadata": {
    "id": "jR3BDfsRRrdL"
   },
   "outputs": [],
   "source": [
    "agent = DQNAgent(obs_dim=obs_dim, num_act=num_act, hidden1=256, hidden2=256)"
   ]
  },
  {
   "cell_type": "code",
   "execution_count": null,
   "metadata": {
    "id": "xEkgKHOiRrdM"
   },
   "outputs": [],
   "source": [
    "gamma = 0.99\n",
    "lr = 1e-3\n",
    "tau = 1e-3\n",
    "ep_len = 500\n",
    "num_updates = 100000\n",
    "batch_size = 128"
   ]
  },
  {
   "cell_type": "code",
   "execution_count": null,
   "metadata": {
    "id": "u07CLB1IRrdM",
    "scrolled": true
   },
   "outputs": [],
   "source": [
    "train(agent, env, gamma, \n",
    "      lr, tau,\n",
    "      ep_len, num_updates, batch_size,\n",
    "      init_buffer=5000, buffer_size=100000,\n",
    "      start_train=2000, train_interval=50,\n",
    "      eval_interval=2000, snapshot_interval=2000, path=None)"
   ]
  },
  {
   "cell_type": "markdown",
   "metadata": {
    "id": "PcnFa4TPRrdM"
   },
   "source": [
    "# 5. Watch the trained agent!"
   ]
  },
  {
   "cell_type": "code",
   "execution_count": null,
   "metadata": {
    "colab": {
     "base_uri": "https://localhost:8080/",
     "height": 455
    },
    "executionInfo": {
     "elapsed": 3231,
     "status": "ok",
     "timestamp": 1627110567836,
     "user": {
      "displayName": "­박민규 / 학생 / 전기·정보공학부",
      "photoUrl": "",
      "userId": "15454198223134513846"
     },
     "user_tz": -540
    },
    "id": "CxSDgFszRrdM",
    "outputId": "2a007c72-5cce-465d-9c75-67e46eaba927"
   },
   "outputs": [
    {
     "name": "stdout",
     "output_type": "stream",
     "text": [
      "loading pre-trained weight...\n",
      "score :  188.0\n"
     ]
    },
    {
     "data": {
      "text/html": [
       "<video alt=\"test\" autoplay \n",
       "                    loop controls style=\"height: 400px;\">\n",
       "                    <source src=\"data:video/mp4;base64,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\" type=\"video/mp4\" />\n",
       "                </video>"
      ],
      "text/plain": [
       "<IPython.core.display.HTML object>"
      ]
     },
     "metadata": {
      "tags": []
     },
     "output_type": "display_data"
    }
   ],
   "source": [
    "env = gym.make('CartPole-v1')\n",
    "if colab:\n",
    "  env = wrap_env(env)\n",
    "obs = env.reset()\n",
    "done = False\n",
    "score = 0.\n",
    "load_model(agent, path='./snapshots/trained.pth.tar', device=device)\n",
    "while not done:\n",
    "    env.render()\n",
    "    obs, rew, done, _ = env.step(agent.act(obs))\n",
    "    score += rew\n",
    "    \n",
    "env.close()\n",
    "print('score : ', score)\n",
    "\n",
    "if colab:\n",
    "    show_video()"
   ]
  }
 ],
 "metadata": {
  "accelerator": "GPU",
  "colab": {
   "collapsed_sections": [],
   "name": "dqn.ipynb",
   "provenance": []
  },
  "kernelspec": {
   "display_name": "Python 3",
   "language": "python",
   "name": "python3"
  },
  "language_info": {
   "codemirror_mode": {
    "name": "ipython",
    "version": 3
   },
   "file_extension": ".py",
   "mimetype": "text/x-python",
   "name": "python",
   "nbconvert_exporter": "python",
   "pygments_lexer": "ipython3",
   "version": "3.6.10"
  }
 },
 "nbformat": 4,
 "nbformat_minor": 1
}
